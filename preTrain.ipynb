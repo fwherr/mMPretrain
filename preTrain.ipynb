{
 "cells": [
  {
   "cell_type": "code",
   "execution_count": null,
   "id": "3e39434c-7130-4908-9665-d21f6e4b6041",
   "metadata": {},
   "outputs": [],
   "source": [
    "python demo/image_demo.py ${IMAGE_FILE} ${CONFIG_FILE} ${CHECKPOINT_FILE}"
   ]
  },
  {
   "cell_type": "code",
   "execution_count": null,
   "id": "dee6d89c-2179-4d88-bd7d-bb4e14dd5bdd",
   "metadata": {},
   "outputs": [],
   "source": [
    "import mmpretrain\n",
    "print(mmpretrain.__version__)\n",
    "\n",
    "from mmpretrain import get_model, list_models, inference_model\n",
    "print(list_models(task='Image Classification', pattern  = 'resnet18'))\n",
    "\n",
    "print(list_models(task='Image Caption', pattern='blip'))\n",
    "model = get_model('resnet18_8xb16_cifar10')\n",
    "print(type(model))\n",
    "\n",
    "model  =  get_model( 'resnet18_8xb32_in1k')\n",
    "print(type(model.backbone))"
   ]
  },
  {
   "cell_type": "code",
   "execution_count": null,
   "id": "01f56f7a-cd3d-4bff-9b42-71abfd7ba41c",
   "metadata": {},
   "outputs": [],
   "source": [
    "inference_model('blip-base_3rdparty_caption','demo/cat-dog.png',show=True)"
   ]
  },
  {
   "cell_type": "code",
   "execution_count": null,
   "id": "17fdac58-8857-4c68-928f-dada9cd4303c",
   "metadata": {},
   "outputs": [],
   "source": [
    "base_ = [\n",
    "    '../_base_/models/resnet18.py',           # 模型配置\n",
    "    '../_base_/datasets/imagenet_bs32.py',    # 数据配置\n",
    "    '../_base_/schedules/imagenet_bs256.py',  # 训练策略配置\n",
    "    '../_base_/default_runtime.py'            # 默认运行设置\n",
    "]"
   ]
  },
  {
   "cell_type": "code",
   "execution_count": null,
   "id": "e439f1c5-89dc-4ea6-b2c0-44bf885f69bf",
   "metadata": {},
   "outputs": [],
   "source": [
    "python tools/train.py ${CONFIG_FILE} [ARGS]"
   ]
  },
  {
   "cell_type": "code",
   "execution_count": null,
   "id": "efeacd8e-3a3c-416f-a660-796235ae2bc5",
   "metadata": {},
   "outputs": [],
   "source": [
    "python tools/test.py ${CONFIG_FILE} ${CHECKPOINT_FILE} [ARGS]"
   ]
  },
  {
   "cell_type": "code",
   "execution_count": null,
   "id": "b54bbb7c-11a1-4341-84b2-1464f6f55d7b",
   "metadata": {},
   "outputs": [],
   "source": [
    "ls configs"
   ]
  },
  {
   "cell_type": "code",
   "execution_count": null,
   "id": "3de35e0c-cb1f-4592-9197-70e23a8794d0",
   "metadata": {},
   "outputs": [],
   "source": [
    "ls configs/resnet"
   ]
  },
  {
   "cell_type": "code",
   "execution_count": null,
   "id": "df8dda6b-475c-4372-b924-6dbc7a01f2b6",
   "metadata": {},
   "outputs": [],
   "source": [
    "_base_ = [\n",
    "    '../_base_/models/resnet18.py', '../_base_/datasets/imagenet_bs32.py',\n",
    "    '../_base_/schedules/imagenet_bs256.py', '../_base_/default_runtime.py'\n",
    "]"
   ]
  },
  {
   "cell_type": "code",
   "execution_count": null,
   "id": "ee556981-26e6-4ec1-be64-3d91bbcd83ba",
   "metadata": {},
   "outputs": [],
   "source": [
    "# save checkpoint per epoch.\n",
    "    checkpoint=dict(type='CheckpointHook', interval=1,max_keep_ckpts=5,sava_best=\"auto\"),"
   ]
  },
  {
   "cell_type": "code",
   "execution_count": null,
   "id": "d6d7ec54-e407-468d-9f5d-c68039084b9f",
   "metadata": {},
   "outputs": [],
   "source": []
  }
 ],
 "metadata": {
  "kernelspec": {
   "display_name": "Python 3 (ipykernel)",
   "language": "python",
   "name": "python3"
  },
  "language_info": {
   "codemirror_mode": {
    "name": "ipython",
    "version": 3
   },
   "file_extension": ".py",
   "mimetype": "text/x-python",
   "name": "python",
   "nbconvert_exporter": "python",
   "pygments_lexer": "ipython3",
   "version": "3.7.16"
  }
 },
 "nbformat": 4,
 "nbformat_minor": 5
}
